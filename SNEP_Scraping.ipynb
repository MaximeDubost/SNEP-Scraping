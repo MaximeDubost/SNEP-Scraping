{
 "cells": [
  {
   "cell_type": "markdown",
   "metadata": {},
   "source": [
    "# Scraping du site de la SNEP : Top Albums hebdomadaire"
   ]
  },
  {
   "cell_type": "markdown",
   "metadata": {},
   "source": [
    "Import de BeautifulSoup, requests, pandas, numpy et la classe Album"
   ]
  },
  {
   "cell_type": "code",
   "execution_count": 1,
   "metadata": {},
   "outputs": [],
   "source": [
    "from bs4 import BeautifulSoup\n",
    "import requests\n",
    "import pandas as pd\n",
    "import numpy as np\n",
    "from album import Album\n",
    "import time"
   ]
  },
  {
   "cell_type": "markdown",
   "metadata": {},
   "source": [
    "Récupération des données du site (top albums) et initialisation de BeautifulSoup"
   ]
  },
  {
   "cell_type": "code",
   "execution_count": 2,
   "metadata": {},
   "outputs": [],
   "source": [
    "request_text = requests.get('https://snepmusique.com/les-tops/le-top-de-la-semaine/top-albums/')\n",
    "soup = BeautifulSoup(request_text.content, 'html.parser')"
   ]
  },
  {
   "cell_type": "markdown",
   "metadata": {},
   "source": [
    "Création d'un DataFrame avec les colonnes relatives à un album"
   ]
  },
  {
   "cell_type": "code",
   "execution_count": 3,
   "metadata": {},
   "outputs": [],
   "source": [
    "df = pd.DataFrame(columns=['rank','trend','title','artist','editor','last_week_rank','week_in','best_rank','certification','certification_date'])"
   ]
  },
  {
   "cell_type": "markdown",
   "metadata": {},
   "source": [
    "Bouclage sur la liste d'album du site, création des objets Album et du contenu du DataFrame"
   ]
  },
  {
   "cell_type": "code",
   "execution_count": 4,
   "metadata": {},
   "outputs": [],
   "source": [
    "top_albums = []\n",
    "limit = 5\n",
    "\n",
    "for element in soup.find_all('div', class_='item', limit=limit):\n",
    "    \n",
    "    rank = element.find('div', class_='rang')\n",
    "    trend_up = element.find('div', class_='rang_up icon-bigarrowup')\n",
    "    trend_down = element.find('div', class_='rang_down icon-bigarrowdown')\n",
    "    title = element.find('div', class_='titre')\n",
    "    artist = element.find('div', class_='artiste')\n",
    "    editor = element.find('div', class_='editeur')\n",
    "    last_week_rank = element.find('div', class_='rang_precedent')\n",
    "    week_in = element.find('div', class_='week_in')\n",
    "    best_rank = element.find('div', class_='best_pos')\n",
    "\n",
    "    top_albums.append(Album(\n",
    "        rank.get_text(),\n",
    "        'Up' if(trend_up != None) else ('Down' if(trend_down != None) else 'Neutral'),\n",
    "        title.get_text(),\n",
    "        artist.get_text(),\n",
    "        editor.get_text(),\n",
    "        0 if last_week_rank == None else int(last_week_rank.find('strong').get_text()[0:-2 if 'er' in last_week_rank.find('strong').get_text() else -1]),\n",
    "        0 if week_in.find('strong').get_text() == 'Nouvelle entrée' else int(week_in.find('strong').get_text()[0:-2 if 'er' in week_in.find('strong').get_text() else -1]),\n",
    "        int(best_rank.find('strong').get_text()[0:-2 if 'er' in best_rank.find('strong').get_text() else -1]),\n",
    "        None,\n",
    "        None\n",
    "    ))"
   ]
  },
  {
   "cell_type": "markdown",
   "metadata": {},
   "source": [
    "Récupération des certifications"
   ]
  },
  {
   "cell_type": "code",
   "execution_count": 5,
   "metadata": {},
   "outputs": [
    {
     "name": "stdout",
     "output_type": "stream",
     "text": [
      "scraping album 1/200 ...\n",
      "scraping album 2/200 ...\n",
      "scraping album 3/200 ...\n",
      "scraping album 4/200 ...\n",
      "scraping album 5/200 ...\n",
      "finished !\n"
     ]
    }
   ],
   "source": [
    "for album in top_albums:\n",
    "    print()\n",
    "    print(f'Scraping certification (album {album.rank}/{limit}).', end='\\r')\n",
    "    time.sleep(1)\n",
    "    print(f'Scraping certification (album {album.rank}/{limit})..', end='\\r')\n",
    "    time.sleep(1)\n",
    "    print(f'Scraping certification (album {album.rank}/{limit})...', end='\\r')\n",
    "    time.sleep(1)\n",
    "    \n",
    "    request_text = requests.get(f'https://snepmusique.com/les-certifications/?categorie=Albums&interprete={album.artist}&titre={album.title}')\n",
    "    soup = BeautifulSoup(request_text.content, 'html.parser')\n",
    "\n",
    "    album.certification = soup.find('div', class_='certif').get_text() if soup.find('div', class_='certification') else ''\n",
    "    album.certification_date = soup.find_all('div', class_='date')[1].get_text()[15:] if soup.find('div', class_='certification') else ''\n",
    "\n",
    "    df = df.append({\n",
    "        'rank': album.rank,\n",
    "        'trend': album.trend,\n",
    "        'title': album.title,\n",
    "        'artist': album.artist,\n",
    "        'editor': album.editor,\n",
    "        'last_week_rank': album.last_week_rank,\n",
    "        'week_in': album.week_in,\n",
    "        'best_rank': album.best_rank,\n",
    "        'certification': album.certification,\n",
    "        'certification_date': album.certification_date\n",
    "    }, ignore_index=True)\n",
    "    \n",
    "    time.sleep(3)\n",
    "    \n",
    "print()\n",
    "print(\"Done.\")"
   ]
  },
  {
   "cell_type": "markdown",
   "metadata": {},
   "source": [
    "Apperçu du dataFrame"
   ]
  },
  {
   "cell_type": "code",
   "execution_count": 6,
   "metadata": {},
   "outputs": [
    {
     "data": {
      "text/plain": [
       "rank                   int64\n",
       "trend                 string\n",
       "title                 string\n",
       "artist                string\n",
       "editor                string\n",
       "last_week_rank         int64\n",
       "week_in                int64\n",
       "best_rank              int64\n",
       "certification         string\n",
       "certification_date    object\n",
       "dtype: object"
      ]
     },
     "execution_count": 6,
     "metadata": {},
     "output_type": "execute_result"
    }
   ],
   "source": [
    "df['rank'] = df['rank'].astype('int')\n",
    "df['trend'] = df['trend'].astype('string')\n",
    "df['title'] = df['title'].astype('string')\n",
    "df['artist'] = df['artist'].astype('string')\n",
    "df['editor'] = df['editor'].astype('string')\n",
    "df['last_week_rank'] = df['last_week_rank'].astype('int')\n",
    "df['week_in'] = df['week_in'].astype('int')\n",
    "df['best_rank'] = df['best_rank'].astype('int')\n",
    "df['certification'] = df['certification'].astype('string')\n",
    "\n",
    "df.dtypes"
   ]
  },
  {
   "cell_type": "code",
   "execution_count": 7,
   "metadata": {},
   "outputs": [
    {
     "data": {
      "text/html": [
       "<div>\n",
       "<style scoped>\n",
       "    .dataframe tbody tr th:only-of-type {\n",
       "        vertical-align: middle;\n",
       "    }\n",
       "\n",
       "    .dataframe tbody tr th {\n",
       "        vertical-align: top;\n",
       "    }\n",
       "\n",
       "    .dataframe thead th {\n",
       "        text-align: right;\n",
       "    }\n",
       "</style>\n",
       "<table border=\"1\" class=\"dataframe\">\n",
       "  <thead>\n",
       "    <tr style=\"text-align: right;\">\n",
       "      <th></th>\n",
       "      <th>rank</th>\n",
       "      <th>trend</th>\n",
       "      <th>title</th>\n",
       "      <th>artist</th>\n",
       "      <th>editor</th>\n",
       "      <th>last_week_rank</th>\n",
       "      <th>week_in</th>\n",
       "      <th>best_rank</th>\n",
       "      <th>certification</th>\n",
       "      <th>certification_date</th>\n",
       "    </tr>\n",
       "  </thead>\n",
       "  <tbody>\n",
       "    <tr>\n",
       "      <th>0</th>\n",
       "      <td>1</td>\n",
       "      <td>Neutral</td>\n",
       "      <td>JEFE</td>\n",
       "      <td>NINHO</td>\n",
       "      <td>REC. 118 / MAL LUNE MUSIC</td>\n",
       "      <td>0</td>\n",
       "      <td>0</td>\n",
       "      <td>1</td>\n",
       "      <td>Or</td>\n",
       "      <td>09/12/2021</td>\n",
       "    </tr>\n",
       "    <tr>\n",
       "      <th>1</th>\n",
       "      <td>2</td>\n",
       "      <td>Down</td>\n",
       "      <td>CIVILISATION</td>\n",
       "      <td>ORELSAN</td>\n",
       "      <td>3EME BUREAU</td>\n",
       "      <td>1</td>\n",
       "      <td>2</td>\n",
       "      <td>1</td>\n",
       "      <td>Double Platine</td>\n",
       "      <td>09/12/2021</td>\n",
       "    </tr>\n",
       "    <tr>\n",
       "      <th>2</th>\n",
       "      <td>3</td>\n",
       "      <td>Down</td>\n",
       "      <td>30</td>\n",
       "      <td>ADELE</td>\n",
       "      <td>COLUMBIA</td>\n",
       "      <td>2</td>\n",
       "      <td>2</td>\n",
       "      <td>2</td>\n",
       "      <td>Platine</td>\n",
       "      <td>09/12/2021</td>\n",
       "    </tr>\n",
       "    <tr>\n",
       "      <th>3</th>\n",
       "      <td>4</td>\n",
       "      <td>Neutral</td>\n",
       "      <td>NONANTE-CINQ</td>\n",
       "      <td>ANGÈLE</td>\n",
       "      <td>ROMANCE MUSIQUE / ANGELE VL RECORDS</td>\n",
       "      <td>0</td>\n",
       "      <td>0</td>\n",
       "      <td>4</td>\n",
       "      <td></td>\n",
       "      <td></td>\n",
       "    </tr>\n",
       "    <tr>\n",
       "      <th>4</th>\n",
       "      <td>5</td>\n",
       "      <td>Down</td>\n",
       "      <td>=</td>\n",
       "      <td>ED SHEERAN</td>\n",
       "      <td>WEA / EAST WEST UK</td>\n",
       "      <td>4</td>\n",
       "      <td>5</td>\n",
       "      <td>1</td>\n",
       "      <td>Or</td>\n",
       "      <td>18/11/2021</td>\n",
       "    </tr>\n",
       "  </tbody>\n",
       "</table>\n",
       "</div>"
      ],
      "text/plain": [
       "   rank    trend         title      artist  \\\n",
       "0     1  Neutral          JEFE       NINHO   \n",
       "1     2     Down  CIVILISATION     ORELSAN   \n",
       "2     3     Down            30       ADELE   \n",
       "3     4  Neutral  NONANTE-CINQ      ANGÈLE   \n",
       "4     5     Down             =  ED SHEERAN   \n",
       "\n",
       "                                editor  last_week_rank  week_in  best_rank  \\\n",
       "0            REC. 118 / MAL LUNE MUSIC               0        0          1   \n",
       "1                          3EME BUREAU               1        2          1   \n",
       "2                             COLUMBIA               2        2          2   \n",
       "3  ROMANCE MUSIQUE / ANGELE VL RECORDS               0        0          4   \n",
       "4                   WEA / EAST WEST UK               4        5          1   \n",
       "\n",
       "    certification certification_date  \n",
       "0              Or         09/12/2021  \n",
       "1  Double Platine         09/12/2021  \n",
       "2         Platine         09/12/2021  \n",
       "3                                     \n",
       "4              Or         18/11/2021  "
      ]
     },
     "execution_count": 7,
     "metadata": {},
     "output_type": "execute_result"
    }
   ],
   "source": [
    "df"
   ]
  }
 ],
 "metadata": {
  "interpreter": {
   "hash": "5b3ded1ccb95c1d9bd405e7b823d9e85424cde40fbb5985eb47e999ef50e15b4"
  },
  "kernelspec": {
   "display_name": "Python 3",
   "language": "python",
   "name": "python3"
  },
  "language_info": {
   "codemirror_mode": {
    "name": "ipython",
    "version": 3
   },
   "file_extension": ".py",
   "mimetype": "text/x-python",
   "name": "python",
   "nbconvert_exporter": "python",
   "pygments_lexer": "ipython3",
   "version": "3.8.10"
  }
 },
 "nbformat": 4,
 "nbformat_minor": 4
}
