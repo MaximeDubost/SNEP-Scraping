{
 "cells": [
  {
   "cell_type": "code",
   "execution_count": 1,
   "metadata": {},
   "outputs": [],
   "source": [
    "from bs4 import BeautifulSoup\n",
    "import requests\n",
    "import pandas as pd\n",
    "import numpy as np"
   ]
  },
  {
   "cell_type": "code",
   "execution_count": 2,
   "metadata": {},
   "outputs": [],
   "source": [
    "request_text = requests.get('https://snepmusique.com/les-tops/le-top-de-la-semaine/top-albums/')\n",
    "soup = BeautifulSoup(request_text.content, 'html.parser')\n",
    "\n",
    "df = pd.DataFrame(columns=['rank','trend','title','artist','editor','last_week_rank','week_in','best_pos'])\n",
    "\n",
    "for element in soup.find_all('div', class_='item'):\n",
    "    \n",
    "    rank = element.find('div', class_='rang').get_text()\n",
    "    trend = 'Up' if(element.find('div', class_='rang_up icon-bigarrowup') != None) else ('Down' if(element.find('div', class_='rang_down icon-bigarrowdown') != None) else 'Neutral')\n",
    "    title = element.find('div', class_='titre').get_text()\n",
    "    artist = element.find('div', class_='artiste').get_text()\n",
    "    editor = element.find('div', class_='editeur').get_text()\n",
    "    last_week_rank = -1 if element.find('div', class_='rang_precedent') == None else int(element.find('div', class_='rang_precedent').find('strong').get_text()[0:-2 if 'er' in element.find('div', class_='rang_precedent').find('strong').get_text() else -1])\n",
    "    week_in = 0 if element.find('div', class_='week_in').find('strong').get_text() == 'Nouvelle entrée' else int(element.find('div', class_='week_in').find('strong').get_text()[0:-2 if 'er' in element.find('div', class_='week_in').find('strong').get_text() else -1])\n",
    "    best_pos = int(element.find('div', class_='best_pos').find('strong').get_text()[0:-2 if 'er' in element.find('div', class_='best_pos').find('strong').get_text() else -1])\n",
    "    \n",
    "    df = df.append({\n",
    "        'rank': rank,\n",
    "        'trend': trend,\n",
    "        'title': title,\n",
    "        'artist': artist,\n",
    "        'editor': editor,\n",
    "        'last_week_rank': last_week_rank,\n",
    "        'week_in': week_in,\n",
    "        'best_pos': best_pos\n",
    "    }, ignore_index=True)\n"
   ]
  },
  {
   "cell_type": "code",
   "execution_count": 3,
   "metadata": {},
   "outputs": [
    {
     "data": {
      "text/html": [
       "<div>\n",
       "<style scoped>\n",
       "    .dataframe tbody tr th:only-of-type {\n",
       "        vertical-align: middle;\n",
       "    }\n",
       "\n",
       "    .dataframe tbody tr th {\n",
       "        vertical-align: top;\n",
       "    }\n",
       "\n",
       "    .dataframe thead th {\n",
       "        text-align: right;\n",
       "    }\n",
       "</style>\n",
       "<table border=\"1\" class=\"dataframe\">\n",
       "  <thead>\n",
       "    <tr style=\"text-align: right;\">\n",
       "      <th></th>\n",
       "      <th>rank</th>\n",
       "      <th>trend</th>\n",
       "      <th>title</th>\n",
       "      <th>artist</th>\n",
       "      <th>editor</th>\n",
       "      <th>last_week_rank</th>\n",
       "      <th>week_in</th>\n",
       "      <th>best_pos</th>\n",
       "    </tr>\n",
       "  </thead>\n",
       "  <tbody>\n",
       "    <tr>\n",
       "      <th>0</th>\n",
       "      <td>1</td>\n",
       "      <td>Neutral</td>\n",
       "      <td>JEFE</td>\n",
       "      <td>NINHO</td>\n",
       "      <td>REC. 118 / MAL LUNE MUSIC</td>\n",
       "      <td>-1</td>\n",
       "      <td>0</td>\n",
       "      <td>1</td>\n",
       "    </tr>\n",
       "    <tr>\n",
       "      <th>1</th>\n",
       "      <td>2</td>\n",
       "      <td>Down</td>\n",
       "      <td>CIVILISATION</td>\n",
       "      <td>ORELSAN</td>\n",
       "      <td>3EME BUREAU</td>\n",
       "      <td>1</td>\n",
       "      <td>2</td>\n",
       "      <td>1</td>\n",
       "    </tr>\n",
       "    <tr>\n",
       "      <th>2</th>\n",
       "      <td>3</td>\n",
       "      <td>Down</td>\n",
       "      <td>30</td>\n",
       "      <td>ADELE</td>\n",
       "      <td>COLUMBIA</td>\n",
       "      <td>2</td>\n",
       "      <td>2</td>\n",
       "      <td>2</td>\n",
       "    </tr>\n",
       "    <tr>\n",
       "      <th>3</th>\n",
       "      <td>4</td>\n",
       "      <td>Neutral</td>\n",
       "      <td>NONANTE-CINQ</td>\n",
       "      <td>ANGÈLE</td>\n",
       "      <td>ROMANCE MUSIQUE / ANGELE VL RECORDS</td>\n",
       "      <td>-1</td>\n",
       "      <td>0</td>\n",
       "      <td>4</td>\n",
       "    </tr>\n",
       "    <tr>\n",
       "      <th>4</th>\n",
       "      <td>5</td>\n",
       "      <td>Down</td>\n",
       "      <td>=</td>\n",
       "      <td>ED SHEERAN</td>\n",
       "      <td>WEA / EAST WEST UK</td>\n",
       "      <td>4</td>\n",
       "      <td>5</td>\n",
       "      <td>1</td>\n",
       "    </tr>\n",
       "  </tbody>\n",
       "</table>\n",
       "</div>"
      ],
      "text/plain": [
       "  rank    trend         title      artist  \\\n",
       "0    1  Neutral          JEFE       NINHO   \n",
       "1    2     Down  CIVILISATION     ORELSAN   \n",
       "2    3     Down            30       ADELE   \n",
       "3    4  Neutral  NONANTE-CINQ      ANGÈLE   \n",
       "4    5     Down             =  ED SHEERAN   \n",
       "\n",
       "                                editor last_week_rank week_in best_pos  \n",
       "0            REC. 118 / MAL LUNE MUSIC             -1       0        1  \n",
       "1                          3EME BUREAU              1       2        1  \n",
       "2                             COLUMBIA              2       2        2  \n",
       "3  ROMANCE MUSIQUE / ANGELE VL RECORDS             -1       0        4  \n",
       "4                   WEA / EAST WEST UK              4       5        1  "
      ]
     },
     "execution_count": 3,
     "metadata": {},
     "output_type": "execute_result"
    }
   ],
   "source": [
    "df.head()"
   ]
  },
  {
   "cell_type": "code",
   "execution_count": 4,
   "metadata": {},
   "outputs": [
    {
     "data": {
      "text/plain": [
       "rank               int64\n",
       "trend             string\n",
       "title             string\n",
       "artist            string\n",
       "editor            string\n",
       "last_week_rank     int64\n",
       "week_in            int64\n",
       "best_pos           int64\n",
       "dtype: object"
      ]
     },
     "execution_count": 4,
     "metadata": {},
     "output_type": "execute_result"
    }
   ],
   "source": [
    "df['rank'] = df['rank'].astype('int')\n",
    "df['trend'] = df['trend'].astype('string')\n",
    "df['title'] = df['title'].astype('string')\n",
    "df['artist'] = df['artist'].astype('string')\n",
    "df['editor'] = df['editor'].astype('string')\n",
    "df['last_week_rank'] = df['last_week_rank'].astype('int')\n",
    "df['week_in'] = df['week_in'].astype('int')\n",
    "df['best_pos'] = df['best_pos'].astype('int')\n",
    "\n",
    "df.dtypes"
   ]
  },
  {
   "cell_type": "code",
   "execution_count": null,
   "metadata": {},
   "outputs": [],
   "source": []
  }
 ],
 "metadata": {
  "interpreter": {
   "hash": "5b3ded1ccb95c1d9bd405e7b823d9e85424cde40fbb5985eb47e999ef50e15b4"
  },
  "kernelspec": {
   "display_name": "Python 3",
   "language": "python",
   "name": "python3"
  },
  "language_info": {
   "codemirror_mode": {
    "name": "ipython",
    "version": 3
   },
   "file_extension": ".py",
   "mimetype": "text/x-python",
   "name": "python",
   "nbconvert_exporter": "python",
   "pygments_lexer": "ipython3",
   "version": "3.8.10"
  }
 },
 "nbformat": 4,
 "nbformat_minor": 4
}
